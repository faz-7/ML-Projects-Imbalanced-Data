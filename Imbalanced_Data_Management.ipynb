{
  "nbformat": 4,
  "nbformat_minor": 0,
  "metadata": {
    "colab": {
      "provenance": []
    },
    "kernelspec": {
      "name": "python3",
      "display_name": "Python 3"
    },
    "language_info": {
      "name": "python"
    }
  },
  "cells": [
    {
      "cell_type": "markdown",
      "source": [
        "**1. Importing Libraries**\n",
        "\n",
        "---"
      ],
      "metadata": {
        "id": "2p81E7SspVKY"
      }
    },
    {
      "cell_type": "code",
      "execution_count": 8,
      "metadata": {
        "id": "X1txiETIlLNx"
      },
      "outputs": [],
      "source": [
        "import pandas as pd\n",
        "from sklearn.model_selection import train_test_split\n",
        "from sklearn.linear_model import LogisticRegression\n",
        "from imblearn.over_sampling import RandomOverSampler\n",
        "from imblearn.under_sampling import RandomUnderSampler\n",
        "from sklearn.metrics import classification_report, confusion_matrix\n",
        "import matplotlib.pyplot as plt\n",
        "import seaborn as sns\n",
        "from sklearn.metrics import precision_score, recall_score, f1_score, accuracy_score"
      ]
    },
    {
      "cell_type": "markdown",
      "source": [
        "**2. Loading Data**\n",
        "\n",
        "---\n",
        "\n"
      ],
      "metadata": {
        "id": "baUlQLWDpfAS"
      }
    },
    {
      "cell_type": "code",
      "source": [
        "train_data = pd.read_csv('/content/train.csv')\n",
        "test_data = pd.read_csv('/content/test.csv')"
      ],
      "metadata": {
        "id": "7yM9UOtwpjDF"
      },
      "execution_count": 9,
      "outputs": []
    },
    {
      "cell_type": "markdown",
      "source": [
        "**3. Preparing Data**\n",
        "\n",
        "---\n",
        "\n"
      ],
      "metadata": {
        "id": "OrYXTZmFplua"
      }
    },
    {
      "cell_type": "code",
      "source": [
        "X_train = train_data.drop('Class', axis=1)\n",
        "y_train = train_data['Class']\n",
        "X_test = test_data.drop('Class', axis=1)\n",
        "y_test = test_data['Class']"
      ],
      "metadata": {
        "id": "ipz_CqUCp963"
      },
      "execution_count": 10,
      "outputs": []
    },
    {
      "cell_type": "markdown",
      "source": [
        "**4. Oversampling Technique**\n",
        "\n",
        "---\n",
        "\n"
      ],
      "metadata": {
        "id": "TD9fjO8eqLHM"
      }
    },
    {
      "cell_type": "code",
      "source": [
        "oversampler = RandomOverSampler(sampling_strategy=0.8)\n",
        "X_train_over, y_train_over = oversampler.fit_resample(X_train, y_train)"
      ],
      "metadata": {
        "id": "5klX893gqye-"
      },
      "execution_count": 11,
      "outputs": []
    },
    {
      "cell_type": "markdown",
      "source": [
        "**5. Undersampling Technique**\n",
        "\n",
        "---\n",
        "\n"
      ],
      "metadata": {
        "id": "Km6iMXR-q5Wt"
      }
    },
    {
      "cell_type": "code",
      "source": [
        "undersampler = RandomUnderSampler(sampling_strategy=0.8)\n",
        "X_train_under, y_train_under = undersampler.fit_resample(X_train, y_train)"
      ],
      "metadata": {
        "id": "bZyQoRKeq86L"
      },
      "execution_count": 12,
      "outputs": []
    },
    {
      "cell_type": "markdown",
      "source": [
        "**6. Logistic Regression and Prediction with Oversampling**\n",
        "\n",
        "---\n",
        "\n"
      ],
      "metadata": {
        "id": "lzRArpl0rDmg"
      }
    },
    {
      "cell_type": "code",
      "source": [
        "model_over = LogisticRegression()\n",
        "model_over.fit(X_train_over, y_train_over)\n",
        "\n",
        "y_pred_over = model_over.predict(X_test)"
      ],
      "metadata": {
        "colab": {
          "base_uri": "https://localhost:8080/"
        },
        "id": "aPlrvG23rO26",
        "outputId": "5ad817be-dc12-4cdc-89f1-360482f63d0c"
      },
      "execution_count": 13,
      "outputs": [
        {
          "output_type": "stream",
          "name": "stderr",
          "text": [
            "/usr/local/lib/python3.10/dist-packages/sklearn/linear_model/_logistic.py:460: ConvergenceWarning: lbfgs failed to converge (status=1):\n",
            "STOP: TOTAL NO. of ITERATIONS REACHED LIMIT.\n",
            "\n",
            "Increase the number of iterations (max_iter) or scale the data as shown in:\n",
            "    https://scikit-learn.org/stable/modules/preprocessing.html\n",
            "Please also refer to the documentation for alternative solver options:\n",
            "    https://scikit-learn.org/stable/modules/linear_model.html#logistic-regression\n",
            "  n_iter_i = _check_optimize_result(\n"
          ]
        }
      ]
    },
    {
      "cell_type": "markdown",
      "source": [
        "**7. Logistic Regression and Prediction with Undersampling**\n",
        "\n",
        "---\n",
        "\n"
      ],
      "metadata": {
        "id": "x0MR58mZrRdY"
      }
    },
    {
      "cell_type": "code",
      "source": [
        "model_under = LogisticRegression()\n",
        "model_under.fit(X_train_under, y_train_under)\n",
        "\n",
        "y_pred_under = model_under.predict(X_test)"
      ],
      "metadata": {
        "colab": {
          "base_uri": "https://localhost:8080/"
        },
        "id": "ZrkiGUxqrVmN",
        "outputId": "ae4b844e-1a22-4e4a-e0d9-52ed6fa4cab0"
      },
      "execution_count": 14,
      "outputs": [
        {
          "output_type": "stream",
          "name": "stderr",
          "text": [
            "/usr/local/lib/python3.10/dist-packages/sklearn/linear_model/_logistic.py:460: ConvergenceWarning: lbfgs failed to converge (status=1):\n",
            "STOP: TOTAL NO. of ITERATIONS REACHED LIMIT.\n",
            "\n",
            "Increase the number of iterations (max_iter) or scale the data as shown in:\n",
            "    https://scikit-learn.org/stable/modules/preprocessing.html\n",
            "Please also refer to the documentation for alternative solver options:\n",
            "    https://scikit-learn.org/stable/modules/linear_model.html#logistic-regression\n",
            "  n_iter_i = _check_optimize_result(\n"
          ]
        }
      ]
    },
    {
      "cell_type": "markdown",
      "source": [
        "**8. Weighted Logistic Regression and Prediction**\n",
        "\n",
        "---\n",
        "\n"
      ],
      "metadata": {
        "id": "oDoRRMjYxjrH"
      }
    },
    {
      "cell_type": "code",
      "source": [
        "model_weighted = LogisticRegression(class_weight='balanced')\n",
        "model_weighted.fit(X_train, y_train)\n",
        "\n",
        "y_pred_weighted = model_weighted.predict(X_test)"
      ],
      "metadata": {
        "colab": {
          "base_uri": "https://localhost:8080/"
        },
        "id": "kc1A3XBrxrmt",
        "outputId": "0e6c87f1-ea39-4ce2-8fc6-3cf6c8935fcc"
      },
      "execution_count": 15,
      "outputs": [
        {
          "output_type": "stream",
          "name": "stderr",
          "text": [
            "/usr/local/lib/python3.10/dist-packages/sklearn/linear_model/_logistic.py:460: ConvergenceWarning: lbfgs failed to converge (status=1):\n",
            "STOP: TOTAL NO. of ITERATIONS REACHED LIMIT.\n",
            "\n",
            "Increase the number of iterations (max_iter) or scale the data as shown in:\n",
            "    https://scikit-learn.org/stable/modules/preprocessing.html\n",
            "Please also refer to the documentation for alternative solver options:\n",
            "    https://scikit-learn.org/stable/modules/linear_model.html#logistic-regression\n",
            "  n_iter_i = _check_optimize_result(\n"
          ]
        }
      ]
    },
    {
      "cell_type": "markdown",
      "source": [
        "**9. Evaluation Metrics**\n",
        "\n",
        "---\n",
        "\n"
      ],
      "metadata": {
        "id": "mJm7LL5Lxwcu"
      }
    },
    {
      "cell_type": "code",
      "source": [
        "def calculate_metrics(y_true, y_pred):\n",
        "    precision = precision_score(y_true, y_pred)\n",
        "    recall = recall_score(y_true, y_pred)\n",
        "    f1 = f1_score(y_true, y_pred)\n",
        "    accuracy = accuracy_score(y_true, y_pred)\n",
        "    return precision, recall, f1, accuracy\n",
        "\n",
        "# Metrics for Oversampling\n",
        "precision_over, recall_over, f1_over, accuracy_over = calculate_metrics(y_test, y_pred_over)\n",
        "\n",
        "# Metrics for Undersampling\n",
        "precision_under, recall_under, f1_under, accuracy_under = calculate_metrics(y_test, y_pred_under)\n",
        "\n",
        "# Metrics for Weighted Logistic Regression\n",
        "precision_weighted, recall_weighted, f1_weighted, accuracy_weighted = calculate_metrics(y_test, y_pred_weighted)"
      ],
      "metadata": {
        "id": "4sgkqFDbx9Mw"
      },
      "execution_count": 16,
      "outputs": []
    },
    {
      "cell_type": "markdown",
      "source": [
        "**10. Reporting Results**\n",
        "\n",
        "---\n",
        "\n"
      ],
      "metadata": {
        "id": "dpoxOmW8yCKH"
      }
    },
    {
      "cell_type": "code",
      "source": [
        "print(\"Weighted Logistic Regression:\")\n",
        "print(f\"Precision: {precision_weighted:.4f}\")\n",
        "print(f\"Recall: {recall_weighted:.4f}\")\n",
        "print(f\"F1-Score: {f1_weighted:.4f}\")\n",
        "print(f\"Accuracy: {accuracy_weighted:.4f}\\n\")\n",
        "\n",
        "print(\"Logistic Regression with Oversampling:\")\n",
        "print(f\"Precision: {precision_over:.4f}\")\n",
        "print(f\"Recall: {recall_over:.4f}\")\n",
        "print(f\"F1-Score: {f1_over:.4f}\")\n",
        "print(f\"Accuracy: {accuracy_over:.4f}\\n\")\n",
        "\n",
        "print(\"Logistic Regression with Undersampling:\")\n",
        "print(f\"Precision: {precision_under:.4f}\")\n",
        "print(f\"Recall: {recall_under:.4f}\")\n",
        "print(f\"F1-Score: {f1_under:.4f}\")\n",
        "print(f\"Accuracy: {accuracy_under:.4f}\")"
      ],
      "metadata": {
        "colab": {
          "base_uri": "https://localhost:8080/"
        },
        "id": "Siq7aBUayLcG",
        "outputId": "5528fe03-eef4-4552-b872-8e1b312ba446"
      },
      "execution_count": 17,
      "outputs": [
        {
          "output_type": "stream",
          "name": "stdout",
          "text": [
            "Weighted Logistic Regression:\n",
            "Precision: 0.8835\n",
            "Recall: 0.8981\n",
            "F1-Score: 0.8907\n",
            "Accuracy: 0.9131\n",
            "\n",
            "Logistic Regression with Oversampling:\n",
            "Precision: 0.8932\n",
            "Recall: 0.8981\n",
            "F1-Score: 0.8956\n",
            "Accuracy: 0.9175\n",
            "\n",
            "Logistic Regression with Undersampling:\n",
            "Precision: 0.8849\n",
            "Recall: 0.8898\n",
            "F1-Score: 0.8874\n",
            "Accuracy: 0.9110\n"
          ]
        }
      ]
    },
    {
      "cell_type": "markdown",
      "source": [
        "**11. Confusion Matrix Visualization**\n",
        "\n",
        "---\n",
        "\n"
      ],
      "metadata": {
        "id": "7Hp8BsQUyTHZ"
      }
    },
    {
      "cell_type": "code",
      "source": [
        "plt.figure(figsize=(8, 6))\n",
        "sns.heatmap(confusion_matrix(y_test, y_pred_under), annot=True, fmt='d', cmap='Blues',\n",
        "            xticklabels=['Non-Spam', 'Spam'], yticklabels=['Non-Spam', 'Spam'])\n",
        "plt.title('Confusion Matrix - Undersampling')\n",
        "plt.xlabel('Predicted')\n",
        "plt.ylabel('Actual')\n",
        "plt.show()"
      ],
      "metadata": {
        "colab": {
          "base_uri": "https://localhost:8080/",
          "height": 564
        },
        "id": "BxDD-ObdybZX",
        "outputId": "b6818e93-f83d-420c-a4cd-fdf8dd45780c"
      },
      "execution_count": 18,
      "outputs": [
        {
          "output_type": "display_data",
          "data": {
            "text/plain": [
              "<Figure size 800x600 with 2 Axes>"
            ],
            "image/png": "[encoded data removed]"
          },
          "metadata": {}
        }
      ]
    }
  ]
}